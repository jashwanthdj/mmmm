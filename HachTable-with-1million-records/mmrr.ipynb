{
 "cells": [
  {
   "cell_type": "code",
   "execution_count": 8,
   "metadata": {},
   "outputs": [],
   "source": [
    "import random\n",
    "from random import randint\n",
    "import string\n",
    "\n",
    "l=[]\n",
    "ls=[]\n",
    "la=[]\n",
    "def random_string_generator_variable_size(min_size, max_size, allowed_chars):\n",
    "    return ''.join(random.choice(allowed_chars) for x in range(randint(min_size, max_size)))\n",
    "\n",
    "\n",
    "chars = string.ascii_letters\n",
    "p=[]\n",
    "for i in range(1000000):\n",
    "    p.append(random_string_generator_variable_size(3, 7, chars))\n",
    "    l.append(i)\n",
    "    if(i<250000):\n",
    "        ls.append('A')\n",
    "        la.append(21)\n",
    "    elif(i>=250000 and i<500000):\n",
    "        ls.append('B')\n",
    "        la.append(20)\n",
    "    elif(i>=500000 and i<750000):\n",
    "        ls.append('C')\n",
    "        la.append(22)\n",
    "    else:\n",
    "        ls.append('D')\n",
    "        la.append(19)\n",
    "random.shuffle(l)\n",
    "random.shuffle(la)\n",
    "random.shuffle(ls)\n",
    "file = open('all_inputs.txt','w')\n",
    "for i in range(1000000):\n",
    "    \n",
    "    a=''+p[i]+' '+str(l[i])+' '+ls[i]+' '+str(la[i])\n",
    "    r1=25-len(a)\n",
    "    a+=' '*r1\n",
    "    \n",
    "    file.write(a)\n",
    "    file.write('\\n')\n",
    "file.close()"
   ]
  },
  {
   "cell_type": "code",
   "execution_count": 3,
   "metadata": {},
   "outputs": [],
   "source": [
    "def hf(roll):\n",
    "    hash=10\n",
    "    return roll%hash \n",
    "\n",
    "\n",
    "fileoffs=[0]*10\n",
    "\n",
    "ind=open(\"rollno.txt\",'w')\n",
    "\n",
    "l=[]\n",
    "for i in range(0,10):\n",
    "    s=\"file\"+str(i)+'.txt'\n",
    "    l.append(open(s,\"w\"))\n",
    "\n",
    "f1=open('all_inputs.txt','r')\n",
    "\n",
    "while(True):\n",
    "    w=f1.readline()\n",
    "    if w!='':\n",
    "        x=w.split()\n",
    "        p=int(x[1])\n",
    "        hr=hf(p)\n",
    "        l[hr].write(w+\"\\n\")\n",
    "        inpstring=str(p)+' '+str(hr)+' '+str(fileoffs[hr])\n",
    "        \n",
    "        ind.write(inpstring+' '*(24-len(inpstring))+\"\\n\")\n",
    "        fileoffs[hr]+=25\n",
    "\n",
    "    else:\n",
    "        for i in l:\n",
    "            i.close()\n",
    "        f1.close()\n",
    "        break\n",
    "        \n",
    "ind.close()"
   ]
  },
  {
   "cell_type": "code",
   "execution_count": 4,
   "metadata": {},
   "outputs": [
    {
     "name": "stdout",
     "output_type": "stream",
     "text": [
      "Record is present in fileno: 6 at 969675 offset\n",
      "WB 83936 C 20          \n",
      "\n"
     ]
    },
    {
     "data": {
      "text/plain": [
       "[6, 969675]"
      ]
     },
     "execution_count": 4,
     "metadata": {},
     "output_type": "execute_result"
    }
   ],
   "source": [
    "\n",
    "#Searcing rollno\n",
    "\n",
    "def search(r):\n",
    "    f=open(\"rollno.txt\",'r')\n",
    "    #Searching in Index (rollno.txt) file\n",
    "    while(True):\n",
    "        w=f.readline()\n",
    "        if w!='':\n",
    "            l=w.split()\n",
    "            if r==int(l[0]):\n",
    "                print(\"Record is present in fileno:\",l[1],\"at\"+' '+str(l[2])+' offset')\n",
    "                \n",
    "                rfr=int(l[1])\n",
    "                roff=int(l[2])\n",
    "                \n",
    "                f1=open(\"file\"+str(l[1])+\".txt\",'r')\n",
    "                f1.seek(int(l[2]))\n",
    "                print(f1.readline())\n",
    "                f1.close()\n",
    "                f.close()\n",
    "                \n",
    "                break\n",
    "    return [rfr,roff]\n",
    "search(789116)"
   ]
  },
  {
   "cell_type": "code",
   "execution_count": 7,
   "metadata": {},
   "outputs": [
    {
     "name": "stdout",
     "output_type": "stream",
     "text": [
      "Record is present in fileno: 6 at 2499775 offset\n",
      "724856 B 21          \n",
      "\n",
      "None\n"
     ]
    }
   ],
   "source": [
    "\n",
    "#from untitled19 import *\n",
    "\n",
    "#from untitled21 import *\n",
    "\n",
    "def add(n,roll,sec,age):\n",
    "    f=open(\"all_inputs.txt\",'a')\n",
    "    \n",
    "    inps=str(n)+' '+str(roll)+' '+str(sec)+' '+str(age)\n",
    "    f.write(inps+\"\\n\")\n",
    "    f.close()\n",
    "    f2=open(\"rollno.txt\",'a')\n",
    "    hfr_file=roll%10\n",
    "    fileoffs[hfr_file]+=25\n",
    "    f2.write(str(roll)+' '+str(hfr_file)+' '+str(fileoffs[hfr_file]))\n",
    "    \n",
    "    \n",
    "    \n",
    "    f1=open(\"file\"+str(hfr_file)+\".txt\",'a')\n",
    "    f1.write(inps+\"\\n\")\n",
    "    \n",
    "    f1.close()\n",
    "    f2.close()\n",
    "    \n",
    "    print(\"Added in fileno:\"+str(hfr_file)+\" at the end\")\n",
    "    \n",
    "#add('suraj',190000340666,'A',16)\n",
    "\n",
    "\n",
    "def remove(name,roll,sec,age):\n",
    "    pp=search(roll)\n",
    "    \n",
    "    fileno,offset=pp[0],pp[1]\n",
    "\n",
    "    \n",
    "    \n",
    "    f3=open(\"file\"+str(fileno)+\".txt\",'r')\n",
    "    \n",
    "    cc=f3.readlines()\n",
    "    \n",
    "    rstring=name+' '+str(roll)+' '+sec+' '+str(age)\n",
    "    print(cc.remove(rstring+' '*(25-len(rstring))+\"\\n\"))\n",
    "    f3.close()\n",
    "    f4=open(\"file\"+str(fileno)+\".txt\",'w')\n",
    "    f4.writelines(cc)\n",
    "    f4.close()\n",
    "\n",
    "remove('mPHDXBz', 934226 ,'A', 19 )"
   ]
  }
 ],
 "metadata": {
  "kernelspec": {
   "display_name": "Python 3",
   "language": "python",
   "name": "python3"
  },
  "language_info": {
   "codemirror_mode": {
    "name": "ipython",
    "version": 3
   },
   "file_extension": ".py",
   "mimetype": "text/x-python",
   "name": "python",
   "nbconvert_exporter": "python",
   "pygments_lexer": "ipython3",
   "version": "3.6.4"
  }
 },
 "nbformat": 4,
 "nbformat_minor": 2
}
